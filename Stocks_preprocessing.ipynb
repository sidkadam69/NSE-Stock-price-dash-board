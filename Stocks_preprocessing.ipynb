{
  "nbformat": 4,
  "nbformat_minor": 0,
  "metadata": {
    "colab": {
      "name": "Stocks preprocessing.ipynb",
      "provenance": [],
      "collapsed_sections": []
    },
    "kernelspec": {
      "name": "python3",
      "display_name": "Python 3"
    },
    "language_info": {
      "name": "python"
    }
  },
  "cells": [
    {
      "cell_type": "code",
      "metadata": {
        "id": "4dEfUle4tMLm",
        "colab": {
          "base_uri": "https://localhost:8080/",
          "height": 17
        },
        "outputId": "ad0e72d7-fed5-4973-d429-582c30be5ad4"
      },
      "source": [
        "import pandas as pd\n",
        "import numpy as np\n",
        "import matplotlib.pyplot as plt\n",
        "import plotly.graph_objs as go\n",
        "from plotly.offline import init_notebook_mode, iplot\n",
        "init_notebook_mode(connected=True)\n",
        "import chart_studio.plotly as py\n",
        "import plotly"
      ],
      "execution_count": 6,
      "outputs": [
        {
          "output_type": "display_data",
          "data": {
            "text/html": [
              "        <script type=\"text/javascript\">\n",
              "        window.PlotlyConfig = {MathJaxConfig: 'local'};\n",
              "        if (window.MathJax) {MathJax.Hub.Config({SVG: {font: \"STIX-Web\"}});}\n",
              "        if (typeof require !== 'undefined') {\n",
              "        require.undef(\"plotly\");\n",
              "        requirejs.config({\n",
              "            paths: {\n",
              "                'plotly': ['https://cdn.plot.ly/plotly-latest.min']\n",
              "            }\n",
              "        });\n",
              "        require(['plotly'], function(Plotly) {\n",
              "            window._Plotly = Plotly;\n",
              "        });\n",
              "        }\n",
              "        </script>\n",
              "        "
            ]
          },
          "metadata": {
            "tags": []
          }
        }
      ]
    },
    {
      "cell_type": "code",
      "metadata": {
        "colab": {
          "resources": {
            "http://localhost:8080/nbextensions/google.colab/files.js": {
              "data": "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",
              "ok": true,
              "headers": [
                [
                  "content-type",
                  "application/javascript"
                ]
              ],
              "status": 200,
              "status_text": ""
            }
          },
          "base_uri": "https://localhost:8080/",
          "height": 281
        },
        "id": "MywzqMTmwsK5",
        "outputId": "0e17e7ec-73f1-45bb-8aa3-f99ec3258220"
      },
      "source": [
        "from google.colab import files\n",
        "uploaded = files.upload()"
      ],
      "execution_count": 7,
      "outputs": [
        {
          "output_type": "display_data",
          "data": {
            "text/html": [
              "\n",
              "     <input type=\"file\" id=\"files-de138e88-ae41-49ea-9f1f-571973be41d6\" name=\"files[]\" multiple disabled\n",
              "        style=\"border:none\" />\n",
              "     <output id=\"result-de138e88-ae41-49ea-9f1f-571973be41d6\">\n",
              "      Upload widget is only available when the cell has been executed in the\n",
              "      current browser session. Please rerun this cell to enable.\n",
              "      </output>\n",
              "      <script src=\"/nbextensions/google.colab/files.js\"></script> "
            ],
            "text/plain": [
              "<IPython.core.display.HTML object>"
            ]
          },
          "metadata": {
            "tags": []
          }
        },
        {
          "output_type": "stream",
          "text": [
            "Saving RBLBANK.NS.csv to RBLBANK.NS.csv\n",
            "Saving INDUSINDBK.NS.csv to INDUSINDBK.NS.csv\n",
            "Saving KOTAKBANK.NS.csv to KOTAKBANK.NS.csv\n",
            "Saving AXISBANK.NS.csv to AXISBANK.NS.csv\n",
            "Saving SBIN.NS.csv to SBIN.NS.csv\n",
            "Saving ICICIBANK.NS.csv to ICICIBANK.NS.csv\n",
            "Saving HDFCBANK.NS.csv to HDFCBANK.NS.csv\n"
          ],
          "name": "stdout"
        }
      ]
    },
    {
      "cell_type": "code",
      "metadata": {
        "id": "5sUFqDe-tMO_",
        "colab": {
          "base_uri": "https://localhost:8080/",
          "height": 202
        },
        "outputId": "0cff5d3e-af5f-4d0a-ee97-37aa20e002e4"
      },
      "source": [
        "import io\n",
        "df = pd.read_csv(io.BytesIO(uploaded['HDFCBANK.NS.csv']))\n",
        "df.head()"
      ],
      "execution_count": 8,
      "outputs": [
        {
          "output_type": "execute_result",
          "data": {
            "text/html": [
              "<div>\n",
              "<style scoped>\n",
              "    .dataframe tbody tr th:only-of-type {\n",
              "        vertical-align: middle;\n",
              "    }\n",
              "\n",
              "    .dataframe tbody tr th {\n",
              "        vertical-align: top;\n",
              "    }\n",
              "\n",
              "    .dataframe thead th {\n",
              "        text-align: right;\n",
              "    }\n",
              "</style>\n",
              "<table border=\"1\" class=\"dataframe\">\n",
              "  <thead>\n",
              "    <tr style=\"text-align: right;\">\n",
              "      <th></th>\n",
              "      <th>Date</th>\n",
              "      <th>Open</th>\n",
              "      <th>High</th>\n",
              "      <th>Low</th>\n",
              "      <th>Close</th>\n",
              "      <th>Adj Close</th>\n",
              "      <th>Volume</th>\n",
              "    </tr>\n",
              "  </thead>\n",
              "  <tbody>\n",
              "    <tr>\n",
              "      <th>0</th>\n",
              "      <td>2020-07-01</td>\n",
              "      <td>1065.849976</td>\n",
              "      <td>1096.000000</td>\n",
              "      <td>1061.300049</td>\n",
              "      <td>1084.599976</td>\n",
              "      <td>1079.926025</td>\n",
              "      <td>17423359.0</td>\n",
              "    </tr>\n",
              "    <tr>\n",
              "      <th>1</th>\n",
              "      <td>2020-07-02</td>\n",
              "      <td>1090.300049</td>\n",
              "      <td>1111.250000</td>\n",
              "      <td>1085.199951</td>\n",
              "      <td>1089.400024</td>\n",
              "      <td>1084.705444</td>\n",
              "      <td>18477248.0</td>\n",
              "    </tr>\n",
              "    <tr>\n",
              "      <th>2</th>\n",
              "      <td>2020-07-03</td>\n",
              "      <td>1093.000000</td>\n",
              "      <td>1095.800049</td>\n",
              "      <td>1070.000000</td>\n",
              "      <td>1073.949951</td>\n",
              "      <td>1069.321899</td>\n",
              "      <td>13798627.0</td>\n",
              "    </tr>\n",
              "    <tr>\n",
              "      <th>3</th>\n",
              "      <td>2020-07-06</td>\n",
              "      <td>1107.949951</td>\n",
              "      <td>1119.900024</td>\n",
              "      <td>1100.000000</td>\n",
              "      <td>1103.000000</td>\n",
              "      <td>1098.246826</td>\n",
              "      <td>17779108.0</td>\n",
              "    </tr>\n",
              "    <tr>\n",
              "      <th>4</th>\n",
              "      <td>2020-07-07</td>\n",
              "      <td>1109.400024</td>\n",
              "      <td>1111.699951</td>\n",
              "      <td>1093.050049</td>\n",
              "      <td>1105.150024</td>\n",
              "      <td>1100.387573</td>\n",
              "      <td>12174925.0</td>\n",
              "    </tr>\n",
              "  </tbody>\n",
              "</table>\n",
              "</div>"
            ],
            "text/plain": [
              "         Date         Open         High  ...        Close    Adj Close      Volume\n",
              "0  2020-07-01  1065.849976  1096.000000  ...  1084.599976  1079.926025  17423359.0\n",
              "1  2020-07-02  1090.300049  1111.250000  ...  1089.400024  1084.705444  18477248.0\n",
              "2  2020-07-03  1093.000000  1095.800049  ...  1073.949951  1069.321899  13798627.0\n",
              "3  2020-07-06  1107.949951  1119.900024  ...  1103.000000  1098.246826  17779108.0\n",
              "4  2020-07-07  1109.400024  1111.699951  ...  1105.150024  1100.387573  12174925.0\n",
              "\n",
              "[5 rows x 7 columns]"
            ]
          },
          "metadata": {
            "tags": []
          },
          "execution_count": 8
        }
      ]
    },
    {
      "cell_type": "code",
      "metadata": {
        "colab": {
          "base_uri": "https://localhost:8080/",
          "height": 202
        },
        "id": "chQIExVOyLv4",
        "outputId": "9ac2a894-f7dd-471e-ce70-02ccba194ede"
      },
      "source": [
        "df.iloc[0:5,:]"
      ],
      "execution_count": 9,
      "outputs": [
        {
          "output_type": "execute_result",
          "data": {
            "text/html": [
              "<div>\n",
              "<style scoped>\n",
              "    .dataframe tbody tr th:only-of-type {\n",
              "        vertical-align: middle;\n",
              "    }\n",
              "\n",
              "    .dataframe tbody tr th {\n",
              "        vertical-align: top;\n",
              "    }\n",
              "\n",
              "    .dataframe thead th {\n",
              "        text-align: right;\n",
              "    }\n",
              "</style>\n",
              "<table border=\"1\" class=\"dataframe\">\n",
              "  <thead>\n",
              "    <tr style=\"text-align: right;\">\n",
              "      <th></th>\n",
              "      <th>Date</th>\n",
              "      <th>Open</th>\n",
              "      <th>High</th>\n",
              "      <th>Low</th>\n",
              "      <th>Close</th>\n",
              "      <th>Adj Close</th>\n",
              "      <th>Volume</th>\n",
              "    </tr>\n",
              "  </thead>\n",
              "  <tbody>\n",
              "    <tr>\n",
              "      <th>0</th>\n",
              "      <td>2020-07-01</td>\n",
              "      <td>1065.849976</td>\n",
              "      <td>1096.000000</td>\n",
              "      <td>1061.300049</td>\n",
              "      <td>1084.599976</td>\n",
              "      <td>1079.926025</td>\n",
              "      <td>17423359.0</td>\n",
              "    </tr>\n",
              "    <tr>\n",
              "      <th>1</th>\n",
              "      <td>2020-07-02</td>\n",
              "      <td>1090.300049</td>\n",
              "      <td>1111.250000</td>\n",
              "      <td>1085.199951</td>\n",
              "      <td>1089.400024</td>\n",
              "      <td>1084.705444</td>\n",
              "      <td>18477248.0</td>\n",
              "    </tr>\n",
              "    <tr>\n",
              "      <th>2</th>\n",
              "      <td>2020-07-03</td>\n",
              "      <td>1093.000000</td>\n",
              "      <td>1095.800049</td>\n",
              "      <td>1070.000000</td>\n",
              "      <td>1073.949951</td>\n",
              "      <td>1069.321899</td>\n",
              "      <td>13798627.0</td>\n",
              "    </tr>\n",
              "    <tr>\n",
              "      <th>3</th>\n",
              "      <td>2020-07-06</td>\n",
              "      <td>1107.949951</td>\n",
              "      <td>1119.900024</td>\n",
              "      <td>1100.000000</td>\n",
              "      <td>1103.000000</td>\n",
              "      <td>1098.246826</td>\n",
              "      <td>17779108.0</td>\n",
              "    </tr>\n",
              "    <tr>\n",
              "      <th>4</th>\n",
              "      <td>2020-07-07</td>\n",
              "      <td>1109.400024</td>\n",
              "      <td>1111.699951</td>\n",
              "      <td>1093.050049</td>\n",
              "      <td>1105.150024</td>\n",
              "      <td>1100.387573</td>\n",
              "      <td>12174925.0</td>\n",
              "    </tr>\n",
              "  </tbody>\n",
              "</table>\n",
              "</div>"
            ],
            "text/plain": [
              "         Date         Open         High  ...        Close    Adj Close      Volume\n",
              "0  2020-07-01  1065.849976  1096.000000  ...  1084.599976  1079.926025  17423359.0\n",
              "1  2020-07-02  1090.300049  1111.250000  ...  1089.400024  1084.705444  18477248.0\n",
              "2  2020-07-03  1093.000000  1095.800049  ...  1073.949951  1069.321899  13798627.0\n",
              "3  2020-07-06  1107.949951  1119.900024  ...  1103.000000  1098.246826  17779108.0\n",
              "4  2020-07-07  1109.400024  1111.699951  ...  1105.150024  1100.387573  12174925.0\n",
              "\n",
              "[5 rows x 7 columns]"
            ]
          },
          "metadata": {
            "tags": []
          },
          "execution_count": 9
        }
      ]
    },
    {
      "cell_type": "code",
      "metadata": {
        "id": "J0aUxBsRtMb8",
        "colab": {
          "base_uri": "https://localhost:8080/"
        },
        "outputId": "5196e111-8ce4-4bb8-9ea0-5f5de1ca6b8f"
      },
      "source": [
        "df.shape"
      ],
      "execution_count": 10,
      "outputs": [
        {
          "output_type": "execute_result",
          "data": {
            "text/plain": [
              "(252, 7)"
            ]
          },
          "metadata": {
            "tags": []
          },
          "execution_count": 10
        }
      ]
    },
    {
      "cell_type": "code",
      "metadata": {
        "colab": {
          "base_uri": "https://localhost:8080/"
        },
        "id": "qtjMPOipylRV",
        "outputId": "75adf85f-7d55-4072-ee45-78b2f2353c5d"
      },
      "source": [
        "HDFCBANK = []\n",
        "for i in range(0, 252):\n",
        "    HDFCBANK.append('HDFC')\n",
        "\n",
        "df['Stock'] = HDFCBANK\n",
        "df['Stock'].shape"
      ],
      "execution_count": 11,
      "outputs": [
        {
          "output_type": "execute_result",
          "data": {
            "text/plain": [
              "(252,)"
            ]
          },
          "metadata": {
            "tags": []
          },
          "execution_count": 11
        }
      ]
    },
    {
      "cell_type": "code",
      "metadata": {
        "colab": {
          "base_uri": "https://localhost:8080/",
          "height": 202
        },
        "id": "Jlqx8pJzylT0",
        "outputId": "fcc46e85-5471-44e6-ea5a-fbb31987c220"
      },
      "source": [
        "df.head()"
      ],
      "execution_count": 12,
      "outputs": [
        {
          "output_type": "execute_result",
          "data": {
            "text/html": [
              "<div>\n",
              "<style scoped>\n",
              "    .dataframe tbody tr th:only-of-type {\n",
              "        vertical-align: middle;\n",
              "    }\n",
              "\n",
              "    .dataframe tbody tr th {\n",
              "        vertical-align: top;\n",
              "    }\n",
              "\n",
              "    .dataframe thead th {\n",
              "        text-align: right;\n",
              "    }\n",
              "</style>\n",
              "<table border=\"1\" class=\"dataframe\">\n",
              "  <thead>\n",
              "    <tr style=\"text-align: right;\">\n",
              "      <th></th>\n",
              "      <th>Date</th>\n",
              "      <th>Open</th>\n",
              "      <th>High</th>\n",
              "      <th>Low</th>\n",
              "      <th>Close</th>\n",
              "      <th>Adj Close</th>\n",
              "      <th>Volume</th>\n",
              "      <th>Stock</th>\n",
              "    </tr>\n",
              "  </thead>\n",
              "  <tbody>\n",
              "    <tr>\n",
              "      <th>0</th>\n",
              "      <td>2020-07-01</td>\n",
              "      <td>1065.849976</td>\n",
              "      <td>1096.000000</td>\n",
              "      <td>1061.300049</td>\n",
              "      <td>1084.599976</td>\n",
              "      <td>1079.926025</td>\n",
              "      <td>17423359.0</td>\n",
              "      <td>HDFC</td>\n",
              "    </tr>\n",
              "    <tr>\n",
              "      <th>1</th>\n",
              "      <td>2020-07-02</td>\n",
              "      <td>1090.300049</td>\n",
              "      <td>1111.250000</td>\n",
              "      <td>1085.199951</td>\n",
              "      <td>1089.400024</td>\n",
              "      <td>1084.705444</td>\n",
              "      <td>18477248.0</td>\n",
              "      <td>HDFC</td>\n",
              "    </tr>\n",
              "    <tr>\n",
              "      <th>2</th>\n",
              "      <td>2020-07-03</td>\n",
              "      <td>1093.000000</td>\n",
              "      <td>1095.800049</td>\n",
              "      <td>1070.000000</td>\n",
              "      <td>1073.949951</td>\n",
              "      <td>1069.321899</td>\n",
              "      <td>13798627.0</td>\n",
              "      <td>HDFC</td>\n",
              "    </tr>\n",
              "    <tr>\n",
              "      <th>3</th>\n",
              "      <td>2020-07-06</td>\n",
              "      <td>1107.949951</td>\n",
              "      <td>1119.900024</td>\n",
              "      <td>1100.000000</td>\n",
              "      <td>1103.000000</td>\n",
              "      <td>1098.246826</td>\n",
              "      <td>17779108.0</td>\n",
              "      <td>HDFC</td>\n",
              "    </tr>\n",
              "    <tr>\n",
              "      <th>4</th>\n",
              "      <td>2020-07-07</td>\n",
              "      <td>1109.400024</td>\n",
              "      <td>1111.699951</td>\n",
              "      <td>1093.050049</td>\n",
              "      <td>1105.150024</td>\n",
              "      <td>1100.387573</td>\n",
              "      <td>12174925.0</td>\n",
              "      <td>HDFC</td>\n",
              "    </tr>\n",
              "  </tbody>\n",
              "</table>\n",
              "</div>"
            ],
            "text/plain": [
              "         Date         Open         High  ...    Adj Close      Volume  Stock\n",
              "0  2020-07-01  1065.849976  1096.000000  ...  1079.926025  17423359.0   HDFC\n",
              "1  2020-07-02  1090.300049  1111.250000  ...  1084.705444  18477248.0   HDFC\n",
              "2  2020-07-03  1093.000000  1095.800049  ...  1069.321899  13798627.0   HDFC\n",
              "3  2020-07-06  1107.949951  1119.900024  ...  1098.246826  17779108.0   HDFC\n",
              "4  2020-07-07  1109.400024  1111.699951  ...  1100.387573  12174925.0   HDFC\n",
              "\n",
              "[5 rows x 8 columns]"
            ]
          },
          "metadata": {
            "tags": []
          },
          "execution_count": 12
        }
      ]
    },
    {
      "cell_type": "code",
      "metadata": {
        "colab": {
          "base_uri": "https://localhost:8080/",
          "height": 202
        },
        "id": "1VDDN5aTylXU",
        "outputId": "a56aee36-7d82-4f67-8b13-8fbd5e7e7392"
      },
      "source": [
        "df2 = pd.read_csv(io.BytesIO(uploaded['ICICIBANK.NS.csv']))\n",
        "df2.head()"
      ],
      "execution_count": 13,
      "outputs": [
        {
          "output_type": "execute_result",
          "data": {
            "text/html": [
              "<div>\n",
              "<style scoped>\n",
              "    .dataframe tbody tr th:only-of-type {\n",
              "        vertical-align: middle;\n",
              "    }\n",
              "\n",
              "    .dataframe tbody tr th {\n",
              "        vertical-align: top;\n",
              "    }\n",
              "\n",
              "    .dataframe thead th {\n",
              "        text-align: right;\n",
              "    }\n",
              "</style>\n",
              "<table border=\"1\" class=\"dataframe\">\n",
              "  <thead>\n",
              "    <tr style=\"text-align: right;\">\n",
              "      <th></th>\n",
              "      <th>Date</th>\n",
              "      <th>Open</th>\n",
              "      <th>High</th>\n",
              "      <th>Low</th>\n",
              "      <th>Close</th>\n",
              "      <th>Adj Close</th>\n",
              "      <th>Volume</th>\n",
              "    </tr>\n",
              "  </thead>\n",
              "  <tbody>\n",
              "    <tr>\n",
              "      <th>0</th>\n",
              "      <td>2020-07-02</td>\n",
              "      <td>366.000000</td>\n",
              "      <td>370.899994</td>\n",
              "      <td>361.350006</td>\n",
              "      <td>362.850006</td>\n",
              "      <td>362.850006</td>\n",
              "      <td>50964311.0</td>\n",
              "    </tr>\n",
              "    <tr>\n",
              "      <th>1</th>\n",
              "      <td>2020-07-03</td>\n",
              "      <td>364.649994</td>\n",
              "      <td>367.149994</td>\n",
              "      <td>359.799988</td>\n",
              "      <td>361.000000</td>\n",
              "      <td>361.000000</td>\n",
              "      <td>28779044.0</td>\n",
              "    </tr>\n",
              "    <tr>\n",
              "      <th>2</th>\n",
              "      <td>2020-07-06</td>\n",
              "      <td>367.850006</td>\n",
              "      <td>367.850006</td>\n",
              "      <td>360.500000</td>\n",
              "      <td>361.850006</td>\n",
              "      <td>361.850006</td>\n",
              "      <td>33334074.0</td>\n",
              "    </tr>\n",
              "    <tr>\n",
              "      <th>3</th>\n",
              "      <td>2020-07-07</td>\n",
              "      <td>363.000000</td>\n",
              "      <td>378.000000</td>\n",
              "      <td>362.100006</td>\n",
              "      <td>376.049988</td>\n",
              "      <td>376.049988</td>\n",
              "      <td>46030825.0</td>\n",
              "    </tr>\n",
              "    <tr>\n",
              "      <th>4</th>\n",
              "      <td>2020-07-08</td>\n",
              "      <td>377.899994</td>\n",
              "      <td>379.000000</td>\n",
              "      <td>367.549988</td>\n",
              "      <td>368.950012</td>\n",
              "      <td>368.950012</td>\n",
              "      <td>46315597.0</td>\n",
              "    </tr>\n",
              "  </tbody>\n",
              "</table>\n",
              "</div>"
            ],
            "text/plain": [
              "         Date        Open        High  ...       Close   Adj Close      Volume\n",
              "0  2020-07-02  366.000000  370.899994  ...  362.850006  362.850006  50964311.0\n",
              "1  2020-07-03  364.649994  367.149994  ...  361.000000  361.000000  28779044.0\n",
              "2  2020-07-06  367.850006  367.850006  ...  361.850006  361.850006  33334074.0\n",
              "3  2020-07-07  363.000000  378.000000  ...  376.049988  376.049988  46030825.0\n",
              "4  2020-07-08  377.899994  379.000000  ...  368.950012  368.950012  46315597.0\n",
              "\n",
              "[5 rows x 7 columns]"
            ]
          },
          "metadata": {
            "tags": []
          },
          "execution_count": 13
        }
      ]
    },
    {
      "cell_type": "code",
      "metadata": {
        "colab": {
          "base_uri": "https://localhost:8080/"
        },
        "id": "_67JPWo7ylhd",
        "outputId": "75c84614-3c10-48af-d4f7-851e143ec873"
      },
      "source": [
        "df2.shape"
      ],
      "execution_count": 14,
      "outputs": [
        {
          "output_type": "execute_result",
          "data": {
            "text/plain": [
              "(252, 7)"
            ]
          },
          "metadata": {
            "tags": []
          },
          "execution_count": 14
        }
      ]
    },
    {
      "cell_type": "code",
      "metadata": {
        "colab": {
          "base_uri": "https://localhost:8080/"
        },
        "id": "LVVLZMLOyll4",
        "outputId": "50f9289c-59da-4146-f17d-78b67f07222d"
      },
      "source": [
        "ICICI = []\n",
        "for i in range(0, 252 ):\n",
        "    ICICI.append('ICICI')\n",
        "\n",
        "df2['Stock'] = ICICI\n",
        "df2['Stock'].shape"
      ],
      "execution_count": 15,
      "outputs": [
        {
          "output_type": "execute_result",
          "data": {
            "text/plain": [
              "(252,)"
            ]
          },
          "metadata": {
            "tags": []
          },
          "execution_count": 15
        }
      ]
    },
    {
      "cell_type": "code",
      "metadata": {
        "colab": {
          "base_uri": "https://localhost:8080/",
          "height": 202
        },
        "id": "DSlZnSCr1pBs",
        "outputId": "f68d5059-0a44-4946-a79f-4848cb73bd93"
      },
      "source": [
        "df3 = pd.read_csv(io.BytesIO(uploaded['SBIN.NS.csv']))\n",
        "df3.head()"
      ],
      "execution_count": 16,
      "outputs": [
        {
          "output_type": "execute_result",
          "data": {
            "text/html": [
              "<div>\n",
              "<style scoped>\n",
              "    .dataframe tbody tr th:only-of-type {\n",
              "        vertical-align: middle;\n",
              "    }\n",
              "\n",
              "    .dataframe tbody tr th {\n",
              "        vertical-align: top;\n",
              "    }\n",
              "\n",
              "    .dataframe thead th {\n",
              "        text-align: right;\n",
              "    }\n",
              "</style>\n",
              "<table border=\"1\" class=\"dataframe\">\n",
              "  <thead>\n",
              "    <tr style=\"text-align: right;\">\n",
              "      <th></th>\n",
              "      <th>Date</th>\n",
              "      <th>Open</th>\n",
              "      <th>High</th>\n",
              "      <th>Low</th>\n",
              "      <th>Close</th>\n",
              "      <th>Adj Close</th>\n",
              "      <th>Volume</th>\n",
              "    </tr>\n",
              "  </thead>\n",
              "  <tbody>\n",
              "    <tr>\n",
              "      <th>0</th>\n",
              "      <td>2020-07-02</td>\n",
              "      <td>185.649994</td>\n",
              "      <td>188.000000</td>\n",
              "      <td>184.000000</td>\n",
              "      <td>185.449997</td>\n",
              "      <td>183.753494</td>\n",
              "      <td>52127276.0</td>\n",
              "    </tr>\n",
              "    <tr>\n",
              "      <th>1</th>\n",
              "      <td>2020-07-03</td>\n",
              "      <td>186.649994</td>\n",
              "      <td>186.850006</td>\n",
              "      <td>183.399994</td>\n",
              "      <td>184.699997</td>\n",
              "      <td>183.010345</td>\n",
              "      <td>38048810.0</td>\n",
              "    </tr>\n",
              "    <tr>\n",
              "      <th>2</th>\n",
              "      <td>2020-07-06</td>\n",
              "      <td>186.600006</td>\n",
              "      <td>189.850006</td>\n",
              "      <td>186.149994</td>\n",
              "      <td>188.050003</td>\n",
              "      <td>186.329712</td>\n",
              "      <td>43773740.0</td>\n",
              "    </tr>\n",
              "    <tr>\n",
              "      <th>3</th>\n",
              "      <td>2020-07-07</td>\n",
              "      <td>187.000000</td>\n",
              "      <td>189.199997</td>\n",
              "      <td>184.050003</td>\n",
              "      <td>188.600006</td>\n",
              "      <td>186.874680</td>\n",
              "      <td>55124494.0</td>\n",
              "    </tr>\n",
              "    <tr>\n",
              "      <th>4</th>\n",
              "      <td>2020-07-08</td>\n",
              "      <td>188.899994</td>\n",
              "      <td>197.449997</td>\n",
              "      <td>188.399994</td>\n",
              "      <td>191.899994</td>\n",
              "      <td>190.144485</td>\n",
              "      <td>143063102.0</td>\n",
              "    </tr>\n",
              "  </tbody>\n",
              "</table>\n",
              "</div>"
            ],
            "text/plain": [
              "         Date        Open        High  ...       Close   Adj Close       Volume\n",
              "0  2020-07-02  185.649994  188.000000  ...  185.449997  183.753494   52127276.0\n",
              "1  2020-07-03  186.649994  186.850006  ...  184.699997  183.010345   38048810.0\n",
              "2  2020-07-06  186.600006  189.850006  ...  188.050003  186.329712   43773740.0\n",
              "3  2020-07-07  187.000000  189.199997  ...  188.600006  186.874680   55124494.0\n",
              "4  2020-07-08  188.899994  197.449997  ...  191.899994  190.144485  143063102.0\n",
              "\n",
              "[5 rows x 7 columns]"
            ]
          },
          "metadata": {
            "tags": []
          },
          "execution_count": 16
        }
      ]
    },
    {
      "cell_type": "code",
      "metadata": {
        "colab": {
          "base_uri": "https://localhost:8080/"
        },
        "id": "qg3ZroAL1pEL",
        "outputId": "b98d46e0-32b5-47e1-8da7-b490ff0cc620"
      },
      "source": [
        "SBI = []\n",
        "for i in range(0, 252):\n",
        "    SBI.append('SBIN')\n",
        "\n",
        "df3['Stock'] = SBI\n",
        "df3['Stock'].shape"
      ],
      "execution_count": 17,
      "outputs": [
        {
          "output_type": "execute_result",
          "data": {
            "text/plain": [
              "(252,)"
            ]
          },
          "metadata": {
            "tags": []
          },
          "execution_count": 17
        }
      ]
    },
    {
      "cell_type": "code",
      "metadata": {
        "colab": {
          "base_uri": "https://localhost:8080/",
          "height": 202
        },
        "id": "IkHg-OZi1pGl",
        "outputId": "f178903d-3087-4310-a7b8-9dcfa9ba9122"
      },
      "source": [
        "df4 = pd.read_csv(io.BytesIO(uploaded['AXISBANK.NS.csv']))\n",
        "df4.head()"
      ],
      "execution_count": 18,
      "outputs": [
        {
          "output_type": "execute_result",
          "data": {
            "text/html": [
              "<div>\n",
              "<style scoped>\n",
              "    .dataframe tbody tr th:only-of-type {\n",
              "        vertical-align: middle;\n",
              "    }\n",
              "\n",
              "    .dataframe tbody tr th {\n",
              "        vertical-align: top;\n",
              "    }\n",
              "\n",
              "    .dataframe thead th {\n",
              "        text-align: right;\n",
              "    }\n",
              "</style>\n",
              "<table border=\"1\" class=\"dataframe\">\n",
              "  <thead>\n",
              "    <tr style=\"text-align: right;\">\n",
              "      <th></th>\n",
              "      <th>Date</th>\n",
              "      <th>Open</th>\n",
              "      <th>High</th>\n",
              "      <th>Low</th>\n",
              "      <th>Close</th>\n",
              "      <th>Adj Close</th>\n",
              "      <th>Volume</th>\n",
              "    </tr>\n",
              "  </thead>\n",
              "  <tbody>\n",
              "    <tr>\n",
              "      <th>0</th>\n",
              "      <td>2020-07-02</td>\n",
              "      <td>441.000000</td>\n",
              "      <td>441.500000</td>\n",
              "      <td>421.299988</td>\n",
              "      <td>423.200012</td>\n",
              "      <td>423.200012</td>\n",
              "      <td>50362770.0</td>\n",
              "    </tr>\n",
              "    <tr>\n",
              "      <th>1</th>\n",
              "      <td>2020-07-03</td>\n",
              "      <td>430.000000</td>\n",
              "      <td>431.600006</td>\n",
              "      <td>423.649994</td>\n",
              "      <td>428.450012</td>\n",
              "      <td>428.450012</td>\n",
              "      <td>31044457.0</td>\n",
              "    </tr>\n",
              "    <tr>\n",
              "      <th>2</th>\n",
              "      <td>2020-07-06</td>\n",
              "      <td>434.149994</td>\n",
              "      <td>437.600006</td>\n",
              "      <td>431.100006</td>\n",
              "      <td>434.000000</td>\n",
              "      <td>434.000000</td>\n",
              "      <td>18424079.0</td>\n",
              "    </tr>\n",
              "    <tr>\n",
              "      <th>3</th>\n",
              "      <td>2020-07-07</td>\n",
              "      <td>433.500000</td>\n",
              "      <td>449.000000</td>\n",
              "      <td>426.200012</td>\n",
              "      <td>447.350006</td>\n",
              "      <td>447.350006</td>\n",
              "      <td>37991679.0</td>\n",
              "    </tr>\n",
              "    <tr>\n",
              "      <th>4</th>\n",
              "      <td>2020-07-08</td>\n",
              "      <td>450.000000</td>\n",
              "      <td>461.399994</td>\n",
              "      <td>441.000000</td>\n",
              "      <td>444.149994</td>\n",
              "      <td>444.149994</td>\n",
              "      <td>45877067.0</td>\n",
              "    </tr>\n",
              "  </tbody>\n",
              "</table>\n",
              "</div>"
            ],
            "text/plain": [
              "         Date        Open        High  ...       Close   Adj Close      Volume\n",
              "0  2020-07-02  441.000000  441.500000  ...  423.200012  423.200012  50362770.0\n",
              "1  2020-07-03  430.000000  431.600006  ...  428.450012  428.450012  31044457.0\n",
              "2  2020-07-06  434.149994  437.600006  ...  434.000000  434.000000  18424079.0\n",
              "3  2020-07-07  433.500000  449.000000  ...  447.350006  447.350006  37991679.0\n",
              "4  2020-07-08  450.000000  461.399994  ...  444.149994  444.149994  45877067.0\n",
              "\n",
              "[5 rows x 7 columns]"
            ]
          },
          "metadata": {
            "tags": []
          },
          "execution_count": 18
        }
      ]
    },
    {
      "cell_type": "code",
      "metadata": {
        "colab": {
          "base_uri": "https://localhost:8080/"
        },
        "id": "-Xf2Mscn1pKC",
        "outputId": "00ce92c2-8359-48a9-df43-114b1c4ab5e4"
      },
      "source": [
        "AXISBANK = []\n",
        "for i in range(0, 252):\n",
        "    AXISBANK.append('AXIS')\n",
        "\n",
        "df4['Stock'] = AXISBANK\n",
        "df4['Stock'].shape"
      ],
      "execution_count": 19,
      "outputs": [
        {
          "output_type": "execute_result",
          "data": {
            "text/plain": [
              "(252,)"
            ]
          },
          "metadata": {
            "tags": []
          },
          "execution_count": 19
        }
      ]
    },
    {
      "cell_type": "code",
      "metadata": {
        "colab": {
          "base_uri": "https://localhost:8080/",
          "height": 202
        },
        "id": "7LSJTajm3wrD",
        "outputId": "5d4de5a2-37f3-411c-d757-7eeb0f7daa5e"
      },
      "source": [
        "df5 = pd.read_csv(io.BytesIO(uploaded['KOTAKBANK.NS.csv']))\n",
        "df5.head()"
      ],
      "execution_count": 20,
      "outputs": [
        {
          "output_type": "execute_result",
          "data": {
            "text/html": [
              "<div>\n",
              "<style scoped>\n",
              "    .dataframe tbody tr th:only-of-type {\n",
              "        vertical-align: middle;\n",
              "    }\n",
              "\n",
              "    .dataframe tbody tr th {\n",
              "        vertical-align: top;\n",
              "    }\n",
              "\n",
              "    .dataframe thead th {\n",
              "        text-align: right;\n",
              "    }\n",
              "</style>\n",
              "<table border=\"1\" class=\"dataframe\">\n",
              "  <thead>\n",
              "    <tr style=\"text-align: right;\">\n",
              "      <th></th>\n",
              "      <th>Date</th>\n",
              "      <th>Open</th>\n",
              "      <th>High</th>\n",
              "      <th>Low</th>\n",
              "      <th>Close</th>\n",
              "      <th>Adj Close</th>\n",
              "      <th>Volume</th>\n",
              "    </tr>\n",
              "  </thead>\n",
              "  <tbody>\n",
              "    <tr>\n",
              "      <th>0</th>\n",
              "      <td>2020-07-02</td>\n",
              "      <td>1358.150024</td>\n",
              "      <td>1371.900024</td>\n",
              "      <td>1342.300049</td>\n",
              "      <td>1352.000000</td>\n",
              "      <td>1352.000000</td>\n",
              "      <td>4992982.0</td>\n",
              "    </tr>\n",
              "    <tr>\n",
              "      <th>1</th>\n",
              "      <td>2020-07-03</td>\n",
              "      <td>1359.900024</td>\n",
              "      <td>1368.699951</td>\n",
              "      <td>1350.050049</td>\n",
              "      <td>1353.800049</td>\n",
              "      <td>1353.800049</td>\n",
              "      <td>2768103.0</td>\n",
              "    </tr>\n",
              "    <tr>\n",
              "      <th>2</th>\n",
              "      <td>2020-07-06</td>\n",
              "      <td>1370.000000</td>\n",
              "      <td>1381.250000</td>\n",
              "      <td>1361.000000</td>\n",
              "      <td>1367.900024</td>\n",
              "      <td>1367.900024</td>\n",
              "      <td>3248073.0</td>\n",
              "    </tr>\n",
              "    <tr>\n",
              "      <th>3</th>\n",
              "      <td>2020-07-07</td>\n",
              "      <td>1370.000000</td>\n",
              "      <td>1374.400024</td>\n",
              "      <td>1351.500000</td>\n",
              "      <td>1368.250000</td>\n",
              "      <td>1368.250000</td>\n",
              "      <td>3574288.0</td>\n",
              "    </tr>\n",
              "    <tr>\n",
              "      <th>4</th>\n",
              "      <td>2020-07-08</td>\n",
              "      <td>1368.000000</td>\n",
              "      <td>1378.849976</td>\n",
              "      <td>1348.000000</td>\n",
              "      <td>1352.750000</td>\n",
              "      <td>1352.750000</td>\n",
              "      <td>3383105.0</td>\n",
              "    </tr>\n",
              "  </tbody>\n",
              "</table>\n",
              "</div>"
            ],
            "text/plain": [
              "         Date         Open         High  ...        Close    Adj Close     Volume\n",
              "0  2020-07-02  1358.150024  1371.900024  ...  1352.000000  1352.000000  4992982.0\n",
              "1  2020-07-03  1359.900024  1368.699951  ...  1353.800049  1353.800049  2768103.0\n",
              "2  2020-07-06  1370.000000  1381.250000  ...  1367.900024  1367.900024  3248073.0\n",
              "3  2020-07-07  1370.000000  1374.400024  ...  1368.250000  1368.250000  3574288.0\n",
              "4  2020-07-08  1368.000000  1378.849976  ...  1352.750000  1352.750000  3383105.0\n",
              "\n",
              "[5 rows x 7 columns]"
            ]
          },
          "metadata": {
            "tags": []
          },
          "execution_count": 20
        }
      ]
    },
    {
      "cell_type": "code",
      "metadata": {
        "colab": {
          "base_uri": "https://localhost:8080/"
        },
        "id": "Vw91scBg3wt3",
        "outputId": "adb715f4-61f6-4d88-b745-6a8e46733041"
      },
      "source": [
        "KOTAK = []\n",
        "for i in range(0, 252):\n",
        "    KOTAK.append('KOTAK')\n",
        "\n",
        "df5['Stock'] = KOTAK\n",
        "df5['Stock'].shape"
      ],
      "execution_count": 21,
      "outputs": [
        {
          "output_type": "execute_result",
          "data": {
            "text/plain": [
              "(252,)"
            ]
          },
          "metadata": {
            "tags": []
          },
          "execution_count": 21
        }
      ]
    },
    {
      "cell_type": "code",
      "metadata": {
        "colab": {
          "base_uri": "https://localhost:8080/",
          "height": 202
        },
        "id": "2cdg2tR43wxA",
        "outputId": "b85f9df7-414b-41c4-9cc9-8f94d10e710a"
      },
      "source": [
        "df6 = pd.read_csv(io.BytesIO(uploaded['INDUSINDBK.NS.csv']))\n",
        "df6.head()"
      ],
      "execution_count": 22,
      "outputs": [
        {
          "output_type": "execute_result",
          "data": {
            "text/html": [
              "<div>\n",
              "<style scoped>\n",
              "    .dataframe tbody tr th:only-of-type {\n",
              "        vertical-align: middle;\n",
              "    }\n",
              "\n",
              "    .dataframe tbody tr th {\n",
              "        vertical-align: top;\n",
              "    }\n",
              "\n",
              "    .dataframe thead th {\n",
              "        text-align: right;\n",
              "    }\n",
              "</style>\n",
              "<table border=\"1\" class=\"dataframe\">\n",
              "  <thead>\n",
              "    <tr style=\"text-align: right;\">\n",
              "      <th></th>\n",
              "      <th>Date</th>\n",
              "      <th>Open</th>\n",
              "      <th>High</th>\n",
              "      <th>Low</th>\n",
              "      <th>Close</th>\n",
              "      <th>Adj Close</th>\n",
              "      <th>Volume</th>\n",
              "    </tr>\n",
              "  </thead>\n",
              "  <tbody>\n",
              "    <tr>\n",
              "      <th>0</th>\n",
              "      <td>2020-07-02</td>\n",
              "      <td>498.000000</td>\n",
              "      <td>508.0</td>\n",
              "      <td>493.000000</td>\n",
              "      <td>494.799988</td>\n",
              "      <td>494.799988</td>\n",
              "      <td>22971526.0</td>\n",
              "    </tr>\n",
              "    <tr>\n",
              "      <th>1</th>\n",
              "      <td>2020-07-03</td>\n",
              "      <td>499.850006</td>\n",
              "      <td>500.0</td>\n",
              "      <td>484.350006</td>\n",
              "      <td>487.200012</td>\n",
              "      <td>487.200012</td>\n",
              "      <td>15633495.0</td>\n",
              "    </tr>\n",
              "    <tr>\n",
              "      <th>2</th>\n",
              "      <td>2020-07-06</td>\n",
              "      <td>498.000000</td>\n",
              "      <td>509.0</td>\n",
              "      <td>493.549988</td>\n",
              "      <td>495.899994</td>\n",
              "      <td>495.899994</td>\n",
              "      <td>24848329.0</td>\n",
              "    </tr>\n",
              "    <tr>\n",
              "      <th>3</th>\n",
              "      <td>2020-07-07</td>\n",
              "      <td>497.000000</td>\n",
              "      <td>530.0</td>\n",
              "      <td>492.450012</td>\n",
              "      <td>526.299988</td>\n",
              "      <td>526.299988</td>\n",
              "      <td>42696302.0</td>\n",
              "    </tr>\n",
              "    <tr>\n",
              "      <th>4</th>\n",
              "      <td>2020-07-08</td>\n",
              "      <td>534.000000</td>\n",
              "      <td>577.5</td>\n",
              "      <td>532.000000</td>\n",
              "      <td>552.599976</td>\n",
              "      <td>552.599976</td>\n",
              "      <td>81334991.0</td>\n",
              "    </tr>\n",
              "  </tbody>\n",
              "</table>\n",
              "</div>"
            ],
            "text/plain": [
              "         Date        Open   High  ...       Close   Adj Close      Volume\n",
              "0  2020-07-02  498.000000  508.0  ...  494.799988  494.799988  22971526.0\n",
              "1  2020-07-03  499.850006  500.0  ...  487.200012  487.200012  15633495.0\n",
              "2  2020-07-06  498.000000  509.0  ...  495.899994  495.899994  24848329.0\n",
              "3  2020-07-07  497.000000  530.0  ...  526.299988  526.299988  42696302.0\n",
              "4  2020-07-08  534.000000  577.5  ...  552.599976  552.599976  81334991.0\n",
              "\n",
              "[5 rows x 7 columns]"
            ]
          },
          "metadata": {
            "tags": []
          },
          "execution_count": 22
        }
      ]
    },
    {
      "cell_type": "code",
      "metadata": {
        "colab": {
          "base_uri": "https://localhost:8080/"
        },
        "id": "VPAR-7sw3wy7",
        "outputId": "cefcf977-b33e-49f5-e2f3-19a53b64bda0"
      },
      "source": [
        "INDUS = []\n",
        "for i in range(0, 252):\n",
        "    INDUS.append('IDIN')\n",
        "\n",
        "df6['Stock'] = INDUS\n",
        "df6['Stock'].shape"
      ],
      "execution_count": 23,
      "outputs": [
        {
          "output_type": "execute_result",
          "data": {
            "text/plain": [
              "(252,)"
            ]
          },
          "metadata": {
            "tags": []
          },
          "execution_count": 23
        }
      ]
    },
    {
      "cell_type": "code",
      "metadata": {
        "colab": {
          "base_uri": "https://localhost:8080/",
          "height": 202
        },
        "id": "XYKbzcgv3w1g",
        "outputId": "4b08be75-3cec-468b-8613-4270c07386dc"
      },
      "source": [
        "df7 = pd.read_csv(io.BytesIO(uploaded['RBLBANK.NS.csv']))\n",
        "df7.head()"
      ],
      "execution_count": 24,
      "outputs": [
        {
          "output_type": "execute_result",
          "data": {
            "text/html": [
              "<div>\n",
              "<style scoped>\n",
              "    .dataframe tbody tr th:only-of-type {\n",
              "        vertical-align: middle;\n",
              "    }\n",
              "\n",
              "    .dataframe tbody tr th {\n",
              "        vertical-align: top;\n",
              "    }\n",
              "\n",
              "    .dataframe thead th {\n",
              "        text-align: right;\n",
              "    }\n",
              "</style>\n",
              "<table border=\"1\" class=\"dataframe\">\n",
              "  <thead>\n",
              "    <tr style=\"text-align: right;\">\n",
              "      <th></th>\n",
              "      <th>Date</th>\n",
              "      <th>Open</th>\n",
              "      <th>High</th>\n",
              "      <th>Low</th>\n",
              "      <th>Close</th>\n",
              "      <th>Adj Close</th>\n",
              "      <th>Volume</th>\n",
              "    </tr>\n",
              "  </thead>\n",
              "  <tbody>\n",
              "    <tr>\n",
              "      <th>0</th>\n",
              "      <td>2020-07-02</td>\n",
              "      <td>176.000000</td>\n",
              "      <td>181.350006</td>\n",
              "      <td>174.899994</td>\n",
              "      <td>177.649994</td>\n",
              "      <td>177.649994</td>\n",
              "      <td>36949228.0</td>\n",
              "    </tr>\n",
              "    <tr>\n",
              "      <th>1</th>\n",
              "      <td>2020-07-03</td>\n",
              "      <td>180.000000</td>\n",
              "      <td>181.250000</td>\n",
              "      <td>170.800003</td>\n",
              "      <td>173.600006</td>\n",
              "      <td>173.600006</td>\n",
              "      <td>29443398.0</td>\n",
              "    </tr>\n",
              "    <tr>\n",
              "      <th>2</th>\n",
              "      <td>2020-07-06</td>\n",
              "      <td>176.000000</td>\n",
              "      <td>180.000000</td>\n",
              "      <td>175.149994</td>\n",
              "      <td>178.050003</td>\n",
              "      <td>178.050003</td>\n",
              "      <td>26821405.0</td>\n",
              "    </tr>\n",
              "    <tr>\n",
              "      <th>3</th>\n",
              "      <td>2020-07-07</td>\n",
              "      <td>178.100006</td>\n",
              "      <td>190.000000</td>\n",
              "      <td>177.100006</td>\n",
              "      <td>186.949997</td>\n",
              "      <td>186.949997</td>\n",
              "      <td>52292533.0</td>\n",
              "    </tr>\n",
              "    <tr>\n",
              "      <th>4</th>\n",
              "      <td>2020-07-08</td>\n",
              "      <td>189.000000</td>\n",
              "      <td>197.399994</td>\n",
              "      <td>185.000000</td>\n",
              "      <td>186.600006</td>\n",
              "      <td>186.600006</td>\n",
              "      <td>54980768.0</td>\n",
              "    </tr>\n",
              "  </tbody>\n",
              "</table>\n",
              "</div>"
            ],
            "text/plain": [
              "         Date        Open        High  ...       Close   Adj Close      Volume\n",
              "0  2020-07-02  176.000000  181.350006  ...  177.649994  177.649994  36949228.0\n",
              "1  2020-07-03  180.000000  181.250000  ...  173.600006  173.600006  29443398.0\n",
              "2  2020-07-06  176.000000  180.000000  ...  178.050003  178.050003  26821405.0\n",
              "3  2020-07-07  178.100006  190.000000  ...  186.949997  186.949997  52292533.0\n",
              "4  2020-07-08  189.000000  197.399994  ...  186.600006  186.600006  54980768.0\n",
              "\n",
              "[5 rows x 7 columns]"
            ]
          },
          "metadata": {
            "tags": []
          },
          "execution_count": 24
        }
      ]
    },
    {
      "cell_type": "code",
      "metadata": {
        "colab": {
          "base_uri": "https://localhost:8080/"
        },
        "id": "OpdMTAfd3w4z",
        "outputId": "76a6024b-d516-4053-dc02-9d196fc6250a"
      },
      "source": [
        "RBL = []\n",
        "for i in range(0, 252):\n",
        "    RBL.append('RBL')\n",
        "\n",
        "df7['Stock'] = RBL\n",
        "df7['Stock'].shape"
      ],
      "execution_count": 25,
      "outputs": [
        {
          "output_type": "execute_result",
          "data": {
            "text/plain": [
              "(252,)"
            ]
          },
          "metadata": {
            "tags": []
          },
          "execution_count": 25
        }
      ]
    },
    {
      "cell_type": "code",
      "metadata": {
        "id": "eijtjji03xAF"
      },
      "source": [
        "df_new = pd.concat([df,df2,df3,df4,df5,df6,df7],ignore_index=True)"
      ],
      "execution_count": 26,
      "outputs": []
    },
    {
      "cell_type": "code",
      "metadata": {
        "colab": {
          "base_uri": "https://localhost:8080/",
          "height": 202
        },
        "id": "Fugmma_73xDP",
        "outputId": "1713508c-896a-465d-ae8e-7f2dfdb51e32"
      },
      "source": [
        "df_new.tail()"
      ],
      "execution_count": 27,
      "outputs": [
        {
          "output_type": "execute_result",
          "data": {
            "text/html": [
              "<div>\n",
              "<style scoped>\n",
              "    .dataframe tbody tr th:only-of-type {\n",
              "        vertical-align: middle;\n",
              "    }\n",
              "\n",
              "    .dataframe tbody tr th {\n",
              "        vertical-align: top;\n",
              "    }\n",
              "\n",
              "    .dataframe thead th {\n",
              "        text-align: right;\n",
              "    }\n",
              "</style>\n",
              "<table border=\"1\" class=\"dataframe\">\n",
              "  <thead>\n",
              "    <tr style=\"text-align: right;\">\n",
              "      <th></th>\n",
              "      <th>Date</th>\n",
              "      <th>Open</th>\n",
              "      <th>High</th>\n",
              "      <th>Low</th>\n",
              "      <th>Close</th>\n",
              "      <th>Adj Close</th>\n",
              "      <th>Volume</th>\n",
              "      <th>Stock</th>\n",
              "    </tr>\n",
              "  </thead>\n",
              "  <tbody>\n",
              "    <tr>\n",
              "      <th>1759</th>\n",
              "      <td>2021-06-28</td>\n",
              "      <td>213.199997</td>\n",
              "      <td>218.000000</td>\n",
              "      <td>211.649994</td>\n",
              "      <td>214.699997</td>\n",
              "      <td>214.699997</td>\n",
              "      <td>6942926.0</td>\n",
              "      <td>RBL</td>\n",
              "    </tr>\n",
              "    <tr>\n",
              "      <th>1760</th>\n",
              "      <td>2021-06-29</td>\n",
              "      <td>215.500000</td>\n",
              "      <td>216.100006</td>\n",
              "      <td>210.699997</td>\n",
              "      <td>211.850006</td>\n",
              "      <td>211.850006</td>\n",
              "      <td>5266622.0</td>\n",
              "      <td>RBL</td>\n",
              "    </tr>\n",
              "    <tr>\n",
              "      <th>1761</th>\n",
              "      <td>2021-06-30</td>\n",
              "      <td>212.000000</td>\n",
              "      <td>213.850006</td>\n",
              "      <td>210.000000</td>\n",
              "      <td>210.500000</td>\n",
              "      <td>210.500000</td>\n",
              "      <td>4255779.0</td>\n",
              "      <td>RBL</td>\n",
              "    </tr>\n",
              "    <tr>\n",
              "      <th>1762</th>\n",
              "      <td>2021-07-01</td>\n",
              "      <td>211.600006</td>\n",
              "      <td>211.850006</td>\n",
              "      <td>209.250000</td>\n",
              "      <td>209.850006</td>\n",
              "      <td>209.850006</td>\n",
              "      <td>3906454.0</td>\n",
              "      <td>RBL</td>\n",
              "    </tr>\n",
              "    <tr>\n",
              "      <th>1763</th>\n",
              "      <td>2021-07-02</td>\n",
              "      <td>210.949997</td>\n",
              "      <td>211.949997</td>\n",
              "      <td>209.500000</td>\n",
              "      <td>211.050003</td>\n",
              "      <td>211.050003</td>\n",
              "      <td>1328762.0</td>\n",
              "      <td>RBL</td>\n",
              "    </tr>\n",
              "  </tbody>\n",
              "</table>\n",
              "</div>"
            ],
            "text/plain": [
              "            Date        Open        High  ...   Adj Close     Volume  Stock\n",
              "1759  2021-06-28  213.199997  218.000000  ...  214.699997  6942926.0    RBL\n",
              "1760  2021-06-29  215.500000  216.100006  ...  211.850006  5266622.0    RBL\n",
              "1761  2021-06-30  212.000000  213.850006  ...  210.500000  4255779.0    RBL\n",
              "1762  2021-07-01  211.600006  211.850006  ...  209.850006  3906454.0    RBL\n",
              "1763  2021-07-02  210.949997  211.949997  ...  211.050003  1328762.0    RBL\n",
              "\n",
              "[5 rows x 8 columns]"
            ]
          },
          "metadata": {
            "tags": []
          },
          "execution_count": 27
        }
      ]
    },
    {
      "cell_type": "code",
      "metadata": {
        "colab": {
          "base_uri": "https://localhost:8080/"
        },
        "id": "RZHs9yHH6Rz1",
        "outputId": "02b5c29f-496e-49de-f34b-2afe8776e84c"
      },
      "source": [
        "df_new.shape"
      ],
      "execution_count": 28,
      "outputs": [
        {
          "output_type": "execute_result",
          "data": {
            "text/plain": [
              "(1764, 8)"
            ]
          },
          "metadata": {
            "tags": []
          },
          "execution_count": 28
        }
      ]
    },
    {
      "cell_type": "code",
      "metadata": {
        "id": "4Ip7na3a6R8X"
      },
      "source": [
        "df_new.to_csv('stock_data.csv', sep=',', index=False)"
      ],
      "execution_count": 29,
      "outputs": []
    },
    {
      "cell_type": "code",
      "metadata": {
        "colab": {
          "base_uri": "https://localhost:8080/",
          "height": 202
        },
        "id": "4DX3uwHl6R_B",
        "outputId": "6aaebbb6-320c-4f72-bfde-564dfd24f44c"
      },
      "source": [
        "df8 = pd.read_csv(\"stock_data.csv\")\n",
        "df8.head()"
      ],
      "execution_count": 30,
      "outputs": [
        {
          "output_type": "execute_result",
          "data": {
            "text/html": [
              "<div>\n",
              "<style scoped>\n",
              "    .dataframe tbody tr th:only-of-type {\n",
              "        vertical-align: middle;\n",
              "    }\n",
              "\n",
              "    .dataframe tbody tr th {\n",
              "        vertical-align: top;\n",
              "    }\n",
              "\n",
              "    .dataframe thead th {\n",
              "        text-align: right;\n",
              "    }\n",
              "</style>\n",
              "<table border=\"1\" class=\"dataframe\">\n",
              "  <thead>\n",
              "    <tr style=\"text-align: right;\">\n",
              "      <th></th>\n",
              "      <th>Date</th>\n",
              "      <th>Open</th>\n",
              "      <th>High</th>\n",
              "      <th>Low</th>\n",
              "      <th>Close</th>\n",
              "      <th>Adj Close</th>\n",
              "      <th>Volume</th>\n",
              "      <th>Stock</th>\n",
              "    </tr>\n",
              "  </thead>\n",
              "  <tbody>\n",
              "    <tr>\n",
              "      <th>0</th>\n",
              "      <td>2020-07-01</td>\n",
              "      <td>1065.849976</td>\n",
              "      <td>1096.000000</td>\n",
              "      <td>1061.300049</td>\n",
              "      <td>1084.599976</td>\n",
              "      <td>1079.926025</td>\n",
              "      <td>17423359.0</td>\n",
              "      <td>HDFC</td>\n",
              "    </tr>\n",
              "    <tr>\n",
              "      <th>1</th>\n",
              "      <td>2020-07-02</td>\n",
              "      <td>1090.300049</td>\n",
              "      <td>1111.250000</td>\n",
              "      <td>1085.199951</td>\n",
              "      <td>1089.400024</td>\n",
              "      <td>1084.705444</td>\n",
              "      <td>18477248.0</td>\n",
              "      <td>HDFC</td>\n",
              "    </tr>\n",
              "    <tr>\n",
              "      <th>2</th>\n",
              "      <td>2020-07-03</td>\n",
              "      <td>1093.000000</td>\n",
              "      <td>1095.800049</td>\n",
              "      <td>1070.000000</td>\n",
              "      <td>1073.949951</td>\n",
              "      <td>1069.321899</td>\n",
              "      <td>13798627.0</td>\n",
              "      <td>HDFC</td>\n",
              "    </tr>\n",
              "    <tr>\n",
              "      <th>3</th>\n",
              "      <td>2020-07-06</td>\n",
              "      <td>1107.949951</td>\n",
              "      <td>1119.900024</td>\n",
              "      <td>1100.000000</td>\n",
              "      <td>1103.000000</td>\n",
              "      <td>1098.246826</td>\n",
              "      <td>17779108.0</td>\n",
              "      <td>HDFC</td>\n",
              "    </tr>\n",
              "    <tr>\n",
              "      <th>4</th>\n",
              "      <td>2020-07-07</td>\n",
              "      <td>1109.400024</td>\n",
              "      <td>1111.699951</td>\n",
              "      <td>1093.050049</td>\n",
              "      <td>1105.150024</td>\n",
              "      <td>1100.387573</td>\n",
              "      <td>12174925.0</td>\n",
              "      <td>HDFC</td>\n",
              "    </tr>\n",
              "  </tbody>\n",
              "</table>\n",
              "</div>"
            ],
            "text/plain": [
              "         Date         Open         High  ...    Adj Close      Volume  Stock\n",
              "0  2020-07-01  1065.849976  1096.000000  ...  1079.926025  17423359.0   HDFC\n",
              "1  2020-07-02  1090.300049  1111.250000  ...  1084.705444  18477248.0   HDFC\n",
              "2  2020-07-03  1093.000000  1095.800049  ...  1069.321899  13798627.0   HDFC\n",
              "3  2020-07-06  1107.949951  1119.900024  ...  1098.246826  17779108.0   HDFC\n",
              "4  2020-07-07  1109.400024  1111.699951  ...  1100.387573  12174925.0   HDFC\n",
              "\n",
              "[5 rows x 8 columns]"
            ]
          },
          "metadata": {
            "tags": []
          },
          "execution_count": 30
        }
      ]
    },
    {
      "cell_type": "code",
      "metadata": {
        "colab": {
          "base_uri": "https://localhost:8080/",
          "height": 202
        },
        "id": "cT-bmIvF6SBp",
        "outputId": "da3cee91-5aea-40ce-cf5d-133f184164a9"
      },
      "source": [
        "df8.tail()"
      ],
      "execution_count": 31,
      "outputs": [
        {
          "output_type": "execute_result",
          "data": {
            "text/html": [
              "<div>\n",
              "<style scoped>\n",
              "    .dataframe tbody tr th:only-of-type {\n",
              "        vertical-align: middle;\n",
              "    }\n",
              "\n",
              "    .dataframe tbody tr th {\n",
              "        vertical-align: top;\n",
              "    }\n",
              "\n",
              "    .dataframe thead th {\n",
              "        text-align: right;\n",
              "    }\n",
              "</style>\n",
              "<table border=\"1\" class=\"dataframe\">\n",
              "  <thead>\n",
              "    <tr style=\"text-align: right;\">\n",
              "      <th></th>\n",
              "      <th>Date</th>\n",
              "      <th>Open</th>\n",
              "      <th>High</th>\n",
              "      <th>Low</th>\n",
              "      <th>Close</th>\n",
              "      <th>Adj Close</th>\n",
              "      <th>Volume</th>\n",
              "      <th>Stock</th>\n",
              "    </tr>\n",
              "  </thead>\n",
              "  <tbody>\n",
              "    <tr>\n",
              "      <th>1759</th>\n",
              "      <td>2021-06-28</td>\n",
              "      <td>213.199997</td>\n",
              "      <td>218.000000</td>\n",
              "      <td>211.649994</td>\n",
              "      <td>214.699997</td>\n",
              "      <td>214.699997</td>\n",
              "      <td>6942926.0</td>\n",
              "      <td>RBL</td>\n",
              "    </tr>\n",
              "    <tr>\n",
              "      <th>1760</th>\n",
              "      <td>2021-06-29</td>\n",
              "      <td>215.500000</td>\n",
              "      <td>216.100006</td>\n",
              "      <td>210.699997</td>\n",
              "      <td>211.850006</td>\n",
              "      <td>211.850006</td>\n",
              "      <td>5266622.0</td>\n",
              "      <td>RBL</td>\n",
              "    </tr>\n",
              "    <tr>\n",
              "      <th>1761</th>\n",
              "      <td>2021-06-30</td>\n",
              "      <td>212.000000</td>\n",
              "      <td>213.850006</td>\n",
              "      <td>210.000000</td>\n",
              "      <td>210.500000</td>\n",
              "      <td>210.500000</td>\n",
              "      <td>4255779.0</td>\n",
              "      <td>RBL</td>\n",
              "    </tr>\n",
              "    <tr>\n",
              "      <th>1762</th>\n",
              "      <td>2021-07-01</td>\n",
              "      <td>211.600006</td>\n",
              "      <td>211.850006</td>\n",
              "      <td>209.250000</td>\n",
              "      <td>209.850006</td>\n",
              "      <td>209.850006</td>\n",
              "      <td>3906454.0</td>\n",
              "      <td>RBL</td>\n",
              "    </tr>\n",
              "    <tr>\n",
              "      <th>1763</th>\n",
              "      <td>2021-07-02</td>\n",
              "      <td>210.949997</td>\n",
              "      <td>211.949997</td>\n",
              "      <td>209.500000</td>\n",
              "      <td>211.050003</td>\n",
              "      <td>211.050003</td>\n",
              "      <td>1328762.0</td>\n",
              "      <td>RBL</td>\n",
              "    </tr>\n",
              "  </tbody>\n",
              "</table>\n",
              "</div>"
            ],
            "text/plain": [
              "            Date        Open        High  ...   Adj Close     Volume  Stock\n",
              "1759  2021-06-28  213.199997  218.000000  ...  214.699997  6942926.0    RBL\n",
              "1760  2021-06-29  215.500000  216.100006  ...  211.850006  5266622.0    RBL\n",
              "1761  2021-06-30  212.000000  213.850006  ...  210.500000  4255779.0    RBL\n",
              "1762  2021-07-01  211.600006  211.850006  ...  209.850006  3906454.0    RBL\n",
              "1763  2021-07-02  210.949997  211.949997  ...  211.050003  1328762.0    RBL\n",
              "\n",
              "[5 rows x 8 columns]"
            ]
          },
          "metadata": {
            "tags": []
          },
          "execution_count": 31
        }
      ]
    },
    {
      "cell_type": "code",
      "metadata": {
        "colab": {
          "base_uri": "https://localhost:8080/"
        },
        "id": "gNhHgZAm6SEL",
        "outputId": "cd02a292-ce92-44b7-982b-c8f88c83e62c"
      },
      "source": [
        "df8[df8['Stock'] == 'HDFC']['High'][-1000:]"
      ],
      "execution_count": 32,
      "outputs": [
        {
          "output_type": "execute_result",
          "data": {
            "text/plain": [
              "0      1096.000000\n",
              "1      1111.250000\n",
              "2      1095.800049\n",
              "3      1119.900024\n",
              "4      1111.699951\n",
              "          ...     \n",
              "247    1522.000000\n",
              "248    1523.000000\n",
              "249    1508.199951\n",
              "250    1509.000000\n",
              "251    1502.000000\n",
              "Name: High, Length: 252, dtype: float64"
            ]
          },
          "metadata": {
            "tags": []
          },
          "execution_count": 32
        }
      ]
    },
    {
      "cell_type": "code",
      "metadata": {
        "colab": {
          "base_uri": "https://localhost:8080/",
          "height": 283
        },
        "id": "AywRQz5X6SHe",
        "outputId": "31db1508-8bf7-4c3e-875e-563258a40413"
      },
      "source": [
        "plt.scatter(df8[df8['Stock'] == 'HDFC']['High'][-1000:], df8[df8['Stock'] == 'ICICI']['High'][-1000:])"
      ],
      "execution_count": 33,
      "outputs": [
        {
          "output_type": "execute_result",
          "data": {
            "text/plain": [
              "<matplotlib.collections.PathCollection at 0x7f4142b5a710>"
            ]
          },
          "metadata": {
            "tags": []
          },
          "execution_count": 33
        },
        {
          "output_type": "display_data",
          "data": {
            "image/png": "[encoded data removed]",
            "text/plain": [
              "<Figure size 432x288 with 1 Axes>"
            ]
          },
          "metadata": {
            "tags": [],
            "needs_background": "light"
          }
        }
      ]
    },
    {
      "cell_type": "code",
      "metadata": {
        "colab": {
          "base_uri": "https://localhost:8080/"
        },
        "id": "wvvQWG4j7uuW",
        "outputId": "f65dbc06-5e6c-4352-dc7b-1e75e5750c3e"
      },
      "source": [
        "df8['Stock'].unique()"
      ],
      "execution_count": 36,
      "outputs": [
        {
          "output_type": "execute_result",
          "data": {
            "text/plain": [
              "array(['HDFC', 'ICICI', 'SBIN', 'AXIS', 'KOTAK', 'IDIN', 'RBL'],\n",
              "      dtype=object)"
            ]
          },
          "metadata": {
            "tags": []
          },
          "execution_count": 36
        }
      ]
    },
    {
      "cell_type": "code",
      "metadata": {
        "colab": {
          "base_uri": "https://localhost:8080/",
          "height": 35
        },
        "id": "cXq6KeM_7uhb",
        "outputId": "36fe749c-16f1-4236-eade-e580113607c3"
      },
      "source": [
        "dropdown = {\"HDFC\": \"HDFCBANK\", \"ICICI\": \"ICICIBANK\", \"SBIN\": \"SBIBANK\", \"AXIS\": \"AXISBANK\",\"KOTAK\": \"KOTAKBANK\",\"IDIN\": \"INDUSINDBANK\",\"RBL\": \"RBLBANK\", }\n",
        "dropdown['HDFC']"
      ],
      "execution_count": 37,
      "outputs": [
        {
          "output_type": "execute_result",
          "data": {
            "application/vnd.google.colaboratory.intrinsic+json": {
              "type": "string"
            },
            "text/plain": [
              "'HDFCBANK'"
            ]
          },
          "metadata": {
            "tags": []
          },
          "execution_count": 37
        }
      ]
    },
    {
      "cell_type": "code",
      "metadata": {
        "id": "hRw3ID-S7u8J"
      },
      "source": [
        "trace_high = go.Scatter(\n",
        "    x=df.Date,\n",
        "    y=df['High'],\n",
        "    name = \"HDFC High\",\n",
        "    line = dict(color = '#17BECF'),\n",
        "    opacity = 0.8)\n",
        "\n",
        "trace_low = go.Scatter(\n",
        "    x=df.Date,\n",
        "    y=df['Low'],\n",
        "    name = \"HDFC Low\",\n",
        "    line = dict(color = '#7F7F7F'),\n",
        "    opacity = 0.8)\n",
        "\n",
        "data = [trace_high,trace_low]\n",
        "layout = dict(\n",
        "    title='Time Series with Rangeslider',\n",
        "    xaxis=dict(\n",
        "        rangeselector=dict(\n",
        "            buttons=list([\n",
        "                dict(count=1,\n",
        "                     label='1m',\n",
        "                     step='month',\n",
        "                     stepmode='backward'),\n",
        "                dict(count=6,\n",
        "                     label='6m',\n",
        "                     step='month',\n",
        "                     stepmode='backward'),\n",
        "                dict(step='all')\n",
        "            ])\n",
        "        ),\n",
        "        rangeslider=dict(\n",
        "            visible = True\n",
        "        ),\n",
        "        type='date'\n",
        "    )\n",
        ")\n",
        "fig = dict(data=data, layout=layout)\n",
        "iplot(fig, filename = \"Time Series with Rangeslider\")"
      ],
      "execution_count": null,
      "outputs": []
    },
    {
      "cell_type": "code",
      "metadata": {
        "id": "jsAW5py_7vIn"
      },
      "source": [
        "trace_high = go.Scatter(\n",
        "    x=df3.Date,\n",
        "    y=df3['High'],\n",
        "    name = \"SBI High\",\n",
        "    line = dict(color = '#17BECF'),\n",
        "    opacity = 0.8)\n",
        "\n",
        "trace_low = go.Scatter(\n",
        "    x=df3.Date,\n",
        "    y=df3['Low'],\n",
        "    name = \"SBI Low\",\n",
        "    line = dict(color = '#7F7F7F'),\n",
        "    opacity = 0.8)\n",
        "\n",
        "data = [trace_high,trace_low]\n",
        "layout = dict(\n",
        "    title='Time Series with Rangeslider',\n",
        "    xaxis=dict(\n",
        "        rangeselector=dict(\n",
        "            buttons=list([\n",
        "                dict(count=1,\n",
        "                     label='1m',\n",
        "                     step='month',\n",
        "                     stepmode='backward'),\n",
        "                dict(count=6,\n",
        "                     label='6m',\n",
        "                     step='month',\n",
        "                     stepmode='backward'),\n",
        "                dict(step='all')\n",
        "            ])\n",
        "        ),\n",
        "        rangeslider=dict(\n",
        "            visible = True\n",
        "        ),\n",
        "        type='date'\n",
        "    )\n",
        ")\n",
        "\n",
        "fig = dict(data=data, layout=layout)\n",
        "iplot(fig, filename = \"Time Series with Rangeslider\")"
      ],
      "execution_count": null,
      "outputs": []
    },
    {
      "cell_type": "code",
      "metadata": {
        "id": "4HPlpjwWQXQc"
      },
      "source": [
        "trace_high = go.Scatter(\n",
        "    x=df4.Date,\n",
        "    y=df4['High'],\n",
        "    name = \"AXIS High\",\n",
        "    line = dict(color = '#17BECF'),\n",
        "    opacity = 0.8)\n",
        "\n",
        "trace_low = go.Scatter(\n",
        "    x=df4.Date,\n",
        "    y=df4['Low'],\n",
        "    name = \"AXIS Low\",\n",
        "    line = dict(color = '#7F7F7F'),\n",
        "    opacity = 0.8)\n",
        "\n",
        "data = [trace_high,trace_low]\n",
        "layout = dict(\n",
        "    title='Time Series with Rangeslider',\n",
        "    xaxis=dict(\n",
        "        rangeselector=dict(\n",
        "            buttons=list([\n",
        "                dict(count=1,\n",
        "                     label='1m',\n",
        "                     step='month',\n",
        "                     stepmode='backward'),\n",
        "                dict(count=6,\n",
        "                     label='6m',\n",
        "                     step='month',\n",
        "                     stepmode='backward'),\n",
        "                dict(step='all')\n",
        "            ])\n",
        "        ),\n",
        "        rangeslider=dict(\n",
        "            visible = True\n",
        "        ),\n",
        "        type='date'\n",
        "    )\n",
        ")\n",
        "\n",
        "fig = dict(data=data, layout=layout)\n",
        "iplot(fig, filename = \"Time Series with Rangeslider\")"
      ],
      "execution_count": null,
      "outputs": []
    },
    {
      "cell_type": "code",
      "metadata": {
        "id": "j-fCi06oQXUH"
      },
      "source": [
        "from statsmodels.tsa.arima_model import ARIMA\n",
        "from sklearn.metrics import mean_squared_error"
      ],
      "execution_count": null,
      "outputs": []
    },
    {
      "cell_type": "code",
      "metadata": {
        "colab": {
          "base_uri": "https://localhost:8080/",
          "height": 202
        },
        "id": "C8hNNrfnQXXE",
        "outputId": "99d9e52e-b0bc-40e7-884f-d1036fc4cd0a"
      },
      "source": [
        "df8.head()"
      ],
      "execution_count": 46,
      "outputs": [
        {
          "output_type": "execute_result",
          "data": {
            "text/html": [
              "<div>\n",
              "<style scoped>\n",
              "    .dataframe tbody tr th:only-of-type {\n",
              "        vertical-align: middle;\n",
              "    }\n",
              "\n",
              "    .dataframe tbody tr th {\n",
              "        vertical-align: top;\n",
              "    }\n",
              "\n",
              "    .dataframe thead th {\n",
              "        text-align: right;\n",
              "    }\n",
              "</style>\n",
              "<table border=\"1\" class=\"dataframe\">\n",
              "  <thead>\n",
              "    <tr style=\"text-align: right;\">\n",
              "      <th></th>\n",
              "      <th>Date</th>\n",
              "      <th>Open</th>\n",
              "      <th>High</th>\n",
              "      <th>Low</th>\n",
              "      <th>Close</th>\n",
              "      <th>Adj Close</th>\n",
              "      <th>Volume</th>\n",
              "      <th>Stock</th>\n",
              "    </tr>\n",
              "  </thead>\n",
              "  <tbody>\n",
              "    <tr>\n",
              "      <th>0</th>\n",
              "      <td>2020-07-01</td>\n",
              "      <td>1065.849976</td>\n",
              "      <td>1096.000000</td>\n",
              "      <td>1061.300049</td>\n",
              "      <td>1084.599976</td>\n",
              "      <td>1079.926025</td>\n",
              "      <td>17423359.0</td>\n",
              "      <td>HDFC</td>\n",
              "    </tr>\n",
              "    <tr>\n",
              "      <th>1</th>\n",
              "      <td>2020-07-02</td>\n",
              "      <td>1090.300049</td>\n",
              "      <td>1111.250000</td>\n",
              "      <td>1085.199951</td>\n",
              "      <td>1089.400024</td>\n",
              "      <td>1084.705444</td>\n",
              "      <td>18477248.0</td>\n",
              "      <td>HDFC</td>\n",
              "    </tr>\n",
              "    <tr>\n",
              "      <th>2</th>\n",
              "      <td>2020-07-03</td>\n",
              "      <td>1093.000000</td>\n",
              "      <td>1095.800049</td>\n",
              "      <td>1070.000000</td>\n",
              "      <td>1073.949951</td>\n",
              "      <td>1069.321899</td>\n",
              "      <td>13798627.0</td>\n",
              "      <td>HDFC</td>\n",
              "    </tr>\n",
              "    <tr>\n",
              "      <th>3</th>\n",
              "      <td>2020-07-06</td>\n",
              "      <td>1107.949951</td>\n",
              "      <td>1119.900024</td>\n",
              "      <td>1100.000000</td>\n",
              "      <td>1103.000000</td>\n",
              "      <td>1098.246826</td>\n",
              "      <td>17779108.0</td>\n",
              "      <td>HDFC</td>\n",
              "    </tr>\n",
              "    <tr>\n",
              "      <th>4</th>\n",
              "      <td>2020-07-07</td>\n",
              "      <td>1109.400024</td>\n",
              "      <td>1111.699951</td>\n",
              "      <td>1093.050049</td>\n",
              "      <td>1105.150024</td>\n",
              "      <td>1100.387573</td>\n",
              "      <td>12174925.0</td>\n",
              "      <td>HDFC</td>\n",
              "    </tr>\n",
              "  </tbody>\n",
              "</table>\n",
              "</div>"
            ],
            "text/plain": [
              "         Date         Open         High  ...    Adj Close      Volume  Stock\n",
              "0  2020-07-01  1065.849976  1096.000000  ...  1079.926025  17423359.0   HDFC\n",
              "1  2020-07-02  1090.300049  1111.250000  ...  1084.705444  18477248.0   HDFC\n",
              "2  2020-07-03  1093.000000  1095.800049  ...  1069.321899  13798627.0   HDFC\n",
              "3  2020-07-06  1107.949951  1119.900024  ...  1098.246826  17779108.0   HDFC\n",
              "4  2020-07-07  1109.400024  1111.699951  ...  1100.387573  12174925.0   HDFC\n",
              "\n",
              "[5 rows x 8 columns]"
            ]
          },
          "metadata": {
            "tags": []
          },
          "execution_count": 46
        }
      ]
    },
    {
      "cell_type": "code",
      "metadata": {
        "id": "Cx4eydE3QXZA"
      },
      "source": [
        "train_data, test_data = df8[df8['Stock'] == 'HDFC'][-100:][0:int(100*0.8)], df8[df8['Stock'] == 'HDFC'][-100:][int(100*0.8):]"
      ],
      "execution_count": 60,
      "outputs": []
    },
    {
      "cell_type": "code",
      "metadata": {
        "colab": {
          "base_uri": "https://localhost:8080/",
          "height": 662
        },
        "id": "_wPx-H0tQ5HT",
        "outputId": "fe53f2fa-ebac-427a-a460-0d784f51e1af"
      },
      "source": [
        "test_data"
      ],
      "execution_count": 61,
      "outputs": [
        {
          "output_type": "execute_result",
          "data": {
            "text/html": [
              "<div>\n",
              "<style scoped>\n",
              "    .dataframe tbody tr th:only-of-type {\n",
              "        vertical-align: middle;\n",
              "    }\n",
              "\n",
              "    .dataframe tbody tr th {\n",
              "        vertical-align: top;\n",
              "    }\n",
              "\n",
              "    .dataframe thead th {\n",
              "        text-align: right;\n",
              "    }\n",
              "</style>\n",
              "<table border=\"1\" class=\"dataframe\">\n",
              "  <thead>\n",
              "    <tr style=\"text-align: right;\">\n",
              "      <th></th>\n",
              "      <th>Date</th>\n",
              "      <th>Open</th>\n",
              "      <th>High</th>\n",
              "      <th>Low</th>\n",
              "      <th>Close</th>\n",
              "      <th>Adj Close</th>\n",
              "      <th>Volume</th>\n",
              "      <th>Stock</th>\n",
              "    </tr>\n",
              "  </thead>\n",
              "  <tbody>\n",
              "    <tr>\n",
              "      <th>232</th>\n",
              "      <td>2021-06-04</td>\n",
              "      <td>1516.000000</td>\n",
              "      <td>1520.650024</td>\n",
              "      <td>1499.199951</td>\n",
              "      <td>1500.949951</td>\n",
              "      <td>1494.481812</td>\n",
              "      <td>4712238.0</td>\n",
              "      <td>HDFC</td>\n",
              "    </tr>\n",
              "    <tr>\n",
              "      <th>233</th>\n",
              "      <td>2021-06-07</td>\n",
              "      <td>1510.000000</td>\n",
              "      <td>1514.000000</td>\n",
              "      <td>1496.000000</td>\n",
              "      <td>1499.849976</td>\n",
              "      <td>1493.386597</td>\n",
              "      <td>4045834.0</td>\n",
              "      <td>HDFC</td>\n",
              "    </tr>\n",
              "    <tr>\n",
              "      <th>234</th>\n",
              "      <td>2021-06-08</td>\n",
              "      <td>1496.550049</td>\n",
              "      <td>1501.300049</td>\n",
              "      <td>1481.500000</td>\n",
              "      <td>1483.050049</td>\n",
              "      <td>1476.659058</td>\n",
              "      <td>4936270.0</td>\n",
              "      <td>HDFC</td>\n",
              "    </tr>\n",
              "    <tr>\n",
              "      <th>235</th>\n",
              "      <td>2021-06-09</td>\n",
              "      <td>1483.900024</td>\n",
              "      <td>1502.000000</td>\n",
              "      <td>1472.050049</td>\n",
              "      <td>1480.300049</td>\n",
              "      <td>1473.920898</td>\n",
              "      <td>5111721.0</td>\n",
              "      <td>HDFC</td>\n",
              "    </tr>\n",
              "    <tr>\n",
              "      <th>236</th>\n",
              "      <td>2021-06-10</td>\n",
              "      <td>1482.099976</td>\n",
              "      <td>1489.000000</td>\n",
              "      <td>1473.650024</td>\n",
              "      <td>1481.050049</td>\n",
              "      <td>1474.667725</td>\n",
              "      <td>5741770.0</td>\n",
              "      <td>HDFC</td>\n",
              "    </tr>\n",
              "    <tr>\n",
              "      <th>237</th>\n",
              "      <td>2021-06-11</td>\n",
              "      <td>1491.000000</td>\n",
              "      <td>1496.550049</td>\n",
              "      <td>1481.050049</td>\n",
              "      <td>1486.349976</td>\n",
              "      <td>1479.944824</td>\n",
              "      <td>3602987.0</td>\n",
              "      <td>HDFC</td>\n",
              "    </tr>\n",
              "    <tr>\n",
              "      <th>238</th>\n",
              "      <td>2021-06-14</td>\n",
              "      <td>1478.250000</td>\n",
              "      <td>1486.000000</td>\n",
              "      <td>1462.550049</td>\n",
              "      <td>1479.449951</td>\n",
              "      <td>1473.074463</td>\n",
              "      <td>4440982.0</td>\n",
              "      <td>HDFC</td>\n",
              "    </tr>\n",
              "    <tr>\n",
              "      <th>239</th>\n",
              "      <td>2021-06-15</td>\n",
              "      <td>1486.000000</td>\n",
              "      <td>1496.000000</td>\n",
              "      <td>1474.800049</td>\n",
              "      <td>1490.250000</td>\n",
              "      <td>1483.828003</td>\n",
              "      <td>3784801.0</td>\n",
              "      <td>HDFC</td>\n",
              "    </tr>\n",
              "    <tr>\n",
              "      <th>240</th>\n",
              "      <td>2021-06-16</td>\n",
              "      <td>1488.000000</td>\n",
              "      <td>1494.000000</td>\n",
              "      <td>1478.099976</td>\n",
              "      <td>1484.599976</td>\n",
              "      <td>1478.202271</td>\n",
              "      <td>3851049.0</td>\n",
              "      <td>HDFC</td>\n",
              "    </tr>\n",
              "    <tr>\n",
              "      <th>241</th>\n",
              "      <td>2021-06-17</td>\n",
              "      <td>1466.000000</td>\n",
              "      <td>1478.750000</td>\n",
              "      <td>1460.000000</td>\n",
              "      <td>1466.099976</td>\n",
              "      <td>1459.781982</td>\n",
              "      <td>4641901.0</td>\n",
              "      <td>HDFC</td>\n",
              "    </tr>\n",
              "    <tr>\n",
              "      <th>242</th>\n",
              "      <td>2021-06-18</td>\n",
              "      <td>1469.500000</td>\n",
              "      <td>1490.000000</td>\n",
              "      <td>1455.000000</td>\n",
              "      <td>1479.800049</td>\n",
              "      <td>1473.423096</td>\n",
              "      <td>5969030.0</td>\n",
              "      <td>HDFC</td>\n",
              "    </tr>\n",
              "    <tr>\n",
              "      <th>243</th>\n",
              "      <td>2021-06-21</td>\n",
              "      <td>1461.349976</td>\n",
              "      <td>1491.800049</td>\n",
              "      <td>1459.000000</td>\n",
              "      <td>1488.699951</td>\n",
              "      <td>1482.284668</td>\n",
              "      <td>3630236.0</td>\n",
              "      <td>HDFC</td>\n",
              "    </tr>\n",
              "    <tr>\n",
              "      <th>244</th>\n",
              "      <td>2021-06-22</td>\n",
              "      <td>1497.000000</td>\n",
              "      <td>1508.000000</td>\n",
              "      <td>1480.000000</td>\n",
              "      <td>1483.800049</td>\n",
              "      <td>1477.405884</td>\n",
              "      <td>7183412.0</td>\n",
              "      <td>HDFC</td>\n",
              "    </tr>\n",
              "    <tr>\n",
              "      <th>245</th>\n",
              "      <td>2021-06-23</td>\n",
              "      <td>1490.000000</td>\n",
              "      <td>1497.800049</td>\n",
              "      <td>1478.599976</td>\n",
              "      <td>1485.500000</td>\n",
              "      <td>1479.098511</td>\n",
              "      <td>3922434.0</td>\n",
              "      <td>HDFC</td>\n",
              "    </tr>\n",
              "    <tr>\n",
              "      <th>246</th>\n",
              "      <td>2021-06-24</td>\n",
              "      <td>1490.000000</td>\n",
              "      <td>1513.449951</td>\n",
              "      <td>1488.000000</td>\n",
              "      <td>1506.250000</td>\n",
              "      <td>1499.759033</td>\n",
              "      <td>7392512.0</td>\n",
              "      <td>HDFC</td>\n",
              "    </tr>\n",
              "    <tr>\n",
              "      <th>247</th>\n",
              "      <td>2021-06-25</td>\n",
              "      <td>1511.099976</td>\n",
              "      <td>1522.000000</td>\n",
              "      <td>1507.000000</td>\n",
              "      <td>1515.099976</td>\n",
              "      <td>1508.570923</td>\n",
              "      <td>5191588.0</td>\n",
              "      <td>HDFC</td>\n",
              "    </tr>\n",
              "    <tr>\n",
              "      <th>248</th>\n",
              "      <td>2021-06-28</td>\n",
              "      <td>1520.000000</td>\n",
              "      <td>1523.000000</td>\n",
              "      <td>1505.000000</td>\n",
              "      <td>1508.349976</td>\n",
              "      <td>1501.849976</td>\n",
              "      <td>4678393.0</td>\n",
              "      <td>HDFC</td>\n",
              "    </tr>\n",
              "    <tr>\n",
              "      <th>249</th>\n",
              "      <td>2021-06-29</td>\n",
              "      <td>1507.000000</td>\n",
              "      <td>1508.199951</td>\n",
              "      <td>1492.150024</td>\n",
              "      <td>1502.050049</td>\n",
              "      <td>1502.050049</td>\n",
              "      <td>5485846.0</td>\n",
              "      <td>HDFC</td>\n",
              "    </tr>\n",
              "    <tr>\n",
              "      <th>250</th>\n",
              "      <td>2021-06-30</td>\n",
              "      <td>1498.000000</td>\n",
              "      <td>1509.000000</td>\n",
              "      <td>1494.099976</td>\n",
              "      <td>1497.900024</td>\n",
              "      <td>1497.900024</td>\n",
              "      <td>4839511.0</td>\n",
              "      <td>HDFC</td>\n",
              "    </tr>\n",
              "    <tr>\n",
              "      <th>251</th>\n",
              "      <td>2021-07-01</td>\n",
              "      <td>1502.000000</td>\n",
              "      <td>1502.000000</td>\n",
              "      <td>1489.050049</td>\n",
              "      <td>1491.250000</td>\n",
              "      <td>1491.250000</td>\n",
              "      <td>4315982.0</td>\n",
              "      <td>HDFC</td>\n",
              "    </tr>\n",
              "  </tbody>\n",
              "</table>\n",
              "</div>"
            ],
            "text/plain": [
              "           Date         Open         High  ...    Adj Close     Volume  Stock\n",
              "232  2021-06-04  1516.000000  1520.650024  ...  1494.481812  4712238.0   HDFC\n",
              "233  2021-06-07  1510.000000  1514.000000  ...  1493.386597  4045834.0   HDFC\n",
              "234  2021-06-08  1496.550049  1501.300049  ...  1476.659058  4936270.0   HDFC\n",
              "235  2021-06-09  1483.900024  1502.000000  ...  1473.920898  5111721.0   HDFC\n",
              "236  2021-06-10  1482.099976  1489.000000  ...  1474.667725  5741770.0   HDFC\n",
              "237  2021-06-11  1491.000000  1496.550049  ...  1479.944824  3602987.0   HDFC\n",
              "238  2021-06-14  1478.250000  1486.000000  ...  1473.074463  4440982.0   HDFC\n",
              "239  2021-06-15  1486.000000  1496.000000  ...  1483.828003  3784801.0   HDFC\n",
              "240  2021-06-16  1488.000000  1494.000000  ...  1478.202271  3851049.0   HDFC\n",
              "241  2021-06-17  1466.000000  1478.750000  ...  1459.781982  4641901.0   HDFC\n",
              "242  2021-06-18  1469.500000  1490.000000  ...  1473.423096  5969030.0   HDFC\n",
              "243  2021-06-21  1461.349976  1491.800049  ...  1482.284668  3630236.0   HDFC\n",
              "244  2021-06-22  1497.000000  1508.000000  ...  1477.405884  7183412.0   HDFC\n",
              "245  2021-06-23  1490.000000  1497.800049  ...  1479.098511  3922434.0   HDFC\n",
              "246  2021-06-24  1490.000000  1513.449951  ...  1499.759033  7392512.0   HDFC\n",
              "247  2021-06-25  1511.099976  1522.000000  ...  1508.570923  5191588.0   HDFC\n",
              "248  2021-06-28  1520.000000  1523.000000  ...  1501.849976  4678393.0   HDFC\n",
              "249  2021-06-29  1507.000000  1508.199951  ...  1502.050049  5485846.0   HDFC\n",
              "250  2021-06-30  1498.000000  1509.000000  ...  1497.900024  4839511.0   HDFC\n",
              "251  2021-07-01  1502.000000  1502.000000  ...  1491.250000  4315982.0   HDFC\n",
              "\n",
              "[20 rows x 8 columns]"
            ]
          },
          "metadata": {
            "tags": []
          },
          "execution_count": 61
        }
      ]
    },
    {
      "cell_type": "code",
      "metadata": {
        "colab": {
          "base_uri": "https://localhost:8080/",
          "height": 475
        },
        "id": "IIvwr1-9QXbm",
        "outputId": "d0d08f5b-2591-4d24-9130-f3d82ec987e7"
      },
      "source": [
        "plt.figure(figsize=(12,7))\n",
        "plt.title('HDFC Prices')\n",
        "plt.xlabel('Dates')\n",
        "plt.ylabel('Prices')\n",
        "plt.plot(df8[df8['Stock'] == 'HDFC']['High'][-1000:], 'blue', label='Training Data')\n",
        "plt.plot(test_data['High'], 'green', label='Testing Data')\n",
        "plt.legend()"
      ],
      "execution_count": 56,
      "outputs": [
        {
          "output_type": "execute_result",
          "data": {
            "text/plain": [
              "<matplotlib.legend.Legend at 0x7f4130526450>"
            ]
          },
          "metadata": {
            "tags": []
          },
          "execution_count": 56
        },
        {
          "output_type": "display_data",
          "data": {
            "image/png": "[encoded data removed]",
            "text/plain": [
              "<Figure size 864x504 with 1 Axes>"
            ]
          },
          "metadata": {
            "tags": [],
            "needs_background": "light"
          }
        }
      ]
    },
    {
      "cell_type": "code",
      "metadata": {
        "id": "YvsUwsqrQXeu"
      },
      "source": [
        "train_data = df8[df8['Stock'] == 'AXIS'][-100:][0:int(100 * 0.8)]\n",
        "test_data = df8[df8['Stock'] == 'AXIS'][-100:][int(100 * 0.8):]"
      ],
      "execution_count": 57,
      "outputs": []
    },
    {
      "cell_type": "code",
      "metadata": {
        "colab": {
          "base_uri": "https://localhost:8080/"
        },
        "id": "VAm1dem5SDUx",
        "outputId": "a3a81280-6098-4fcb-f4d1-148353b60d86"
      },
      "source": [
        "train_ar = train_data['High'].values\n",
        "test_ar = test_data['High'].values\n",
        "\n",
        "# https://machinelearningmastery.com/arima-for-time-series-forecasting-with-python/\n",
        "history = [x for x in train_ar]\n",
        "print(type(history))\n",
        "predictions = list()\n",
        "for t in range(len(test_ar)):\n",
        "    model = ARIMA(history, order=(3,1,0))\n",
        "    model_fit = model.fit(disp=0)\n",
        "    output = model_fit.forecast()\n",
        "    yhat = output[0]\n",
        "    predictions.append(yhat)\n",
        "    obs = test_ar[t]\n",
        "    history.append(obs)\n",
        "    #print('predicted=%f, expected=%f' % (yhat, obs))\n",
        "error = mean_squared_error(test_ar, predictions)\n",
        "print('Testing Mean Squared Error: %.3f' % error)"
      ],
      "execution_count": 78,
      "outputs": [
        {
          "output_type": "stream",
          "text": [
            "<class 'list'>\n",
            "Testing Mean Squared Error: 140.172\n"
          ],
          "name": "stdout"
        }
      ]
    },
    {
      "cell_type": "code",
      "metadata": {
        "colab": {
          "base_uri": "https://localhost:8080/",
          "height": 475
        },
        "id": "slAdEB9zSDe_",
        "outputId": "b2acdc26-6e89-48a1-8165-8fcb72eac94b"
      },
      "source": [
        "plt.figure(figsize=(12,7))\n",
        "plt.plot(df8[df8['Stock'] == 'HDFC']['High'][-1000:], 'green', color='blue', label='Training Data')\n",
        "plt.plot(test_data.index, predictions, color='green', marker='o', linestyle='dashed', \n",
        "         label='Predicted Price')\n",
        "plt.plot(test_data.index, test_data['High'], color='red', label='Actual Price')\n",
        "plt.title('HDFC Prices Prediction')\n",
        "plt.xlabel('Dates')\n",
        "plt.ylabel('Prices')\n",
        "plt.legend()"
      ],
      "execution_count": 64,
      "outputs": [
        {
          "output_type": "execute_result",
          "data": {
            "text/plain": [
              "<matplotlib.legend.Legend at 0x7f4140919e90>"
            ]
          },
          "metadata": {
            "tags": []
          },
          "execution_count": 64
        },
        {
          "output_type": "display_data",
          "data": {
            "image/png": "[encoded data removed]",
            "text/plain": [
              "<Figure size 864x504 with 1 Axes>"
            ]
          },
          "metadata": {
            "tags": [],
            "needs_background": "light"
          }
        }
      ]
    },
    {
      "cell_type": "code",
      "metadata": {
        "colab": {
          "base_uri": "https://localhost:8080/"
        },
        "id": "V8-Nsb6RSDhO",
        "outputId": "bb438bab-93c2-4241-9770-de130cb47409"
      },
      "source": [
        "import joblib\n",
        "\n",
        "# save the model to disk\n",
        "filename = 'finalized_model.sav'\n",
        "joblib.dump(model, filename)"
      ],
      "execution_count": 67,
      "outputs": [
        {
          "output_type": "execute_result",
          "data": {
            "text/plain": [
              "['finalized_model.sav']"
            ]
          },
          "metadata": {
            "tags": []
          },
          "execution_count": 67
        }
      ]
    },
    {
      "cell_type": "code",
      "metadata": {
        "colab": {
          "base_uri": "https://localhost:8080/"
        },
        "id": "sLA2op_dSDjv",
        "outputId": "23acb407-6d9d-47d9-ff1b-0593d4ef942e"
      },
      "source": [
        "train_ar = train_data['High'].values\n",
        "test_ar = test_data['High'].values\n",
        "\n",
        "loaded_model = joblib.load(filename)\n",
        "\n",
        "# https://machinelearningmastery.com/arima-for-time-series-forecasting-with-python/\n",
        "history = [x for x in train_ar]\n",
        "print(type(history))\n",
        "predictions = list()\n",
        "for t in range(len(test_ar)):\n",
        "    model_fit = loaded_model.fit(trend='nc')\n",
        "    output = model_fit.forecast()\n",
        "    yhat = output[0]\n",
        "    predictions.append(yhat)\n",
        "    obs = test_ar[t]\n",
        "    history.append(obs)\n",
        "    #print('predicted=%f, expected=%f' % (yhat, obs))\n",
        "error = mean_squared_error(test_ar, predictions)\n",
        "print('Testing Mean Squared Error: %.3f' % error)"
      ],
      "execution_count": 73,
      "outputs": [
        {
          "output_type": "stream",
          "text": [
            "<class 'list'>\n",
            "Testing Mean Squared Error: 285.184\n"
          ],
          "name": "stdout"
        }
      ]
    },
    {
      "cell_type": "code",
      "metadata": {
        "colab": {
          "base_uri": "https://localhost:8080/"
        },
        "id": "uGWnVlMBSDmL",
        "outputId": "0f17a4c1-2d8f-408d-b5e1-cc265098c380"
      },
      "source": [
        "out = np.concatenate(predictions).ravel()\n",
        "print(out)"
      ],
      "execution_count": 79,
      "outputs": [
        {
          "output_type": "stream",
          "text": [
            "[1531.63715169 1514.78264337 1511.86367006 1500.74604203 1505.89711755\n",
            " 1486.34377887 1500.66017291 1481.4363705  1498.59751746 1489.75922484\n",
            " 1474.58746998 1495.42537731 1488.03268253 1506.68143263 1489.24617052\n",
            " 1515.39532677 1517.7112324  1517.28894099 1503.87340309 1512.73952591]\n"
          ],
          "name": "stdout"
        }
      ]
    },
    {
      "cell_type": "code",
      "metadata": {
        "colab": {
          "base_uri": "https://localhost:8080/",
          "height": 475
        },
        "id": "FrCxC0K7SDpr",
        "outputId": "6d1152dc-9d08-4819-f49e-252a8614c38a"
      },
      "source": [
        "plt.figure(figsize=(12,7))\n",
        "plt.plot(test_data.index, predictions, color='green', marker='o', linestyle='dashed', \n",
        "         label='Predicted Price')\n",
        "plt.plot(test_data.index, test_data['Open'], color='red', label='Actual Price')\n",
        "plt.title('HDFC Prices Prediction')\n",
        "plt.xlabel('Dates')\n",
        "plt.ylabel('Prices')\n",
        "plt.legend()"
      ],
      "execution_count": 80,
      "outputs": [
        {
          "output_type": "execute_result",
          "data": {
            "text/plain": [
              "<matplotlib.legend.Legend at 0x7f41414481d0>"
            ]
          },
          "metadata": {
            "tags": []
          },
          "execution_count": 80
        },
        {
          "output_type": "display_data",
          "data": {
            "image/png": "[encoded data removed]",
            "text/plain": [
              "<Figure size 864x504 with 1 Axes>"
            ]
          },
          "metadata": {
            "tags": [],
            "needs_background": "light"
          }
        }
      ]
    },
    {
      "cell_type": "code",
      "metadata": {
        "id": "0_jiOW4BWwfO"
      },
      "source": [
        ""
      ],
      "execution_count": null,
      "outputs": []
    }
  ]
}